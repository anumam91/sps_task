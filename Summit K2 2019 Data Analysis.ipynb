{
 "cells": [
  {
   "cell_type": "code",
   "execution_count": 30,
   "metadata": {},
   "outputs": [],
   "source": [
    "import pandas as pd\n",
    "import numpy as np"
   ]
  },
  {
   "cell_type": "markdown",
   "metadata": {},
   "source": [
    "## 1. 2019 student/test-taker demographics"
   ]
  },
  {
   "cell_type": "markdown",
   "metadata": {},
   "source": [
    "Data from this seciton was used to create slide 7 of the Deck"
   ]
  },
  {
   "cell_type": "code",
   "execution_count": 31,
   "metadata": {},
   "outputs": [],
   "source": [
    "#create a master dataframe to make analysis easier/faster\n",
    "#load csv files\n",
    "grade7=pd.read_csv(\"MOCK_DATA_Grade_7_Summit_K2_CAASPP_2018-2019 - MOCK_DATA_Grade_7_Summit_K2_CAASPP_2018-2019.csv\")\n",
    "grade8=pd.read_csv(\"MOCK_DATA_Grade_8_Summit_K2_CAASPP_2018-2019 - MOCK_DATA_Grade_8_Summit_K2_CAASPP_2018-2019.csv\")\n",
    "grade11=pd.read_csv(\"MOCK_DATA_Grade_11_Summit_K2_CAASPP_2018-2019 - MOCK_DATA_Grade_11_Summit_K2_CAASPP_2018-2019.csv\")\n",
    "\n",
    "#add a column to each datafram that contains the grade level\n",
    "grade7[\"Grade\"]=7\n",
    "grade8[\"Grade\"]=8\n",
    "grade11[\"Grade\"]=11\n",
    "\n",
    "#merge all 3 grade levels into a master dataframe\n",
    "allgrades_df = pd.concat([grade7,grade8, grade11], axis=0, sort=True)"
   ]
  },
  {
   "cell_type": "code",
   "execution_count": 32,
   "metadata": {},
   "outputs": [
    {
     "data": {
      "text/html": [
       "<div>\n",
       "<style scoped>\n",
       "    .dataframe tbody tr th:only-of-type {\n",
       "        vertical-align: middle;\n",
       "    }\n",
       "\n",
       "    .dataframe tbody tr th {\n",
       "        vertical-align: top;\n",
       "    }\n",
       "\n",
       "    .dataframe thead th {\n",
       "        text-align: right;\n",
       "    }\n",
       "</style>\n",
       "<table border=\"1\" class=\"dataframe\">\n",
       "  <thead>\n",
       "    <tr style=\"text-align: right;\">\n",
       "      <th></th>\n",
       "      <th>Total Students</th>\n",
       "      <th>Economically Disadvantaged Status</th>\n",
       "      <th>English Language Proficiency Level</th>\n",
       "      <th>Primary Disability Type</th>\n",
       "      <th>% Economically Disadvantaged</th>\n",
       "      <th>% English Language Learners</th>\n",
       "      <th>% With Disabilies</th>\n",
       "    </tr>\n",
       "    <tr>\n",
       "      <th>Grade</th>\n",
       "      <th></th>\n",
       "      <th></th>\n",
       "      <th></th>\n",
       "      <th></th>\n",
       "      <th></th>\n",
       "      <th></th>\n",
       "      <th></th>\n",
       "    </tr>\n",
       "  </thead>\n",
       "  <tbody>\n",
       "    <tr>\n",
       "      <th>7</th>\n",
       "      <td>90.0</td>\n",
       "      <td>19.0</td>\n",
       "      <td>25.0</td>\n",
       "      <td>3.0</td>\n",
       "      <td>7.142857</td>\n",
       "      <td>9.398496</td>\n",
       "      <td>1.127820</td>\n",
       "    </tr>\n",
       "    <tr>\n",
       "      <th>8</th>\n",
       "      <td>97.0</td>\n",
       "      <td>29.0</td>\n",
       "      <td>16.0</td>\n",
       "      <td>8.0</td>\n",
       "      <td>10.902256</td>\n",
       "      <td>6.015038</td>\n",
       "      <td>3.007519</td>\n",
       "    </tr>\n",
       "    <tr>\n",
       "      <th>11</th>\n",
       "      <td>79.0</td>\n",
       "      <td>19.0</td>\n",
       "      <td>10.0</td>\n",
       "      <td>4.0</td>\n",
       "      <td>7.142857</td>\n",
       "      <td>3.759398</td>\n",
       "      <td>1.503759</td>\n",
       "    </tr>\n",
       "    <tr>\n",
       "      <th>Total</th>\n",
       "      <td>266.0</td>\n",
       "      <td>67.0</td>\n",
       "      <td>51.0</td>\n",
       "      <td>15.0</td>\n",
       "      <td>25.187970</td>\n",
       "      <td>19.172932</td>\n",
       "      <td>5.639098</td>\n",
       "    </tr>\n",
       "  </tbody>\n",
       "</table>\n",
       "</div>"
      ],
      "text/plain": [
       "       Total Students  Economically Disadvantaged Status  \\\n",
       "Grade                                                      \n",
       "7                90.0                               19.0   \n",
       "8                97.0                               29.0   \n",
       "11               79.0                               19.0   \n",
       "Total           266.0                               67.0   \n",
       "\n",
       "       English Language Proficiency Level  Primary Disability Type  \\\n",
       "Grade                                                                \n",
       "7                                    25.0                      3.0   \n",
       "8                                    16.0                      8.0   \n",
       "11                                   10.0                      4.0   \n",
       "Total                                51.0                     15.0   \n",
       "\n",
       "       % Economically Disadvantaged  % English Language Learners  \\\n",
       "Grade                                                              \n",
       "7                          7.142857                     9.398496   \n",
       "8                         10.902256                     6.015038   \n",
       "11                         7.142857                     3.759398   \n",
       "Total                     25.187970                    19.172932   \n",
       "\n",
       "       % With Disabilies   \n",
       "Grade                      \n",
       "7                1.127820  \n",
       "8                3.007519  \n",
       "11               1.503759  \n",
       "Total            5.639098  "
      ]
     },
     "execution_count": 32,
     "metadata": {},
     "output_type": "execute_result"
    }
   ],
   "source": [
    "#Create dataframe that shows student counts/demographic data per grade level\n",
    "total_students = allgrades_df.groupby('Grade')\n",
    "student_count = pd.DataFrame(total_students.count())\n",
    "\n",
    "#keep relevant columns only\n",
    "student_count = student_count[['Student ID','Economically Disadvantaged Status','English Language Proficiency Level', 'Primary Disability Type']]\n",
    "\n",
    "#add some columns that show percentages\n",
    "student_count[\"% Economically Disadvantaged\"] = (student_count[\"Economically Disadvantaged Status\"]/student_count[\"Student ID\"].sum())*100\n",
    "student_count[\"% English Language Learners\"] = (student_count[\"English Language Proficiency Level\"]/student_count[\"Student ID\"].sum())*100\n",
    "student_count[\"% With Disabilies \"] = (student_count[\"Primary Disability Type\"]/student_count[\"Student ID\"].sum())*100\n",
    "\n",
    "#add a summary row\n",
    "student_count.loc[\"Total\"] = student_count.sum()\n",
    "\n",
    "#rename for clarity\n",
    "student_count = student_count.rename(columns={\"Student ID\":\"Total Students\"})\n",
    "student_count"
   ]
  },
  {
   "cell_type": "code",
   "execution_count": 33,
   "metadata": {},
   "outputs": [
    {
     "data": {
      "text/html": [
       "<div>\n",
       "<style scoped>\n",
       "    .dataframe tbody tr th:only-of-type {\n",
       "        vertical-align: middle;\n",
       "    }\n",
       "\n",
       "    .dataframe tbody tr th {\n",
       "        vertical-align: top;\n",
       "    }\n",
       "\n",
       "    .dataframe thead th {\n",
       "        text-align: right;\n",
       "    }\n",
       "</style>\n",
       "<table border=\"1\" class=\"dataframe\">\n",
       "  <thead>\n",
       "    <tr style=\"text-align: right;\">\n",
       "      <th></th>\n",
       "      <th>Number of Students per Race</th>\n",
       "      <th>% Students per Race</th>\n",
       "    </tr>\n",
       "    <tr>\n",
       "      <th>Race/Ethnicity</th>\n",
       "      <th></th>\n",
       "      <th></th>\n",
       "    </tr>\n",
       "  </thead>\n",
       "  <tbody>\n",
       "    <tr>\n",
       "      <th>American Indian or Alaska Native</th>\n",
       "      <td>1.0</td>\n",
       "      <td>0.386100</td>\n",
       "    </tr>\n",
       "    <tr>\n",
       "      <th>Asian</th>\n",
       "      <td>16.0</td>\n",
       "      <td>6.177606</td>\n",
       "    </tr>\n",
       "    <tr>\n",
       "      <th>Black or African American</th>\n",
       "      <td>48.0</td>\n",
       "      <td>18.532819</td>\n",
       "    </tr>\n",
       "    <tr>\n",
       "      <th>Filipino</th>\n",
       "      <td>9.0</td>\n",
       "      <td>3.474903</td>\n",
       "    </tr>\n",
       "    <tr>\n",
       "      <th>Hispanic or Latino</th>\n",
       "      <td>133.0</td>\n",
       "      <td>51.351351</td>\n",
       "    </tr>\n",
       "    <tr>\n",
       "      <th>Two or More Races</th>\n",
       "      <td>27.0</td>\n",
       "      <td>10.424710</td>\n",
       "    </tr>\n",
       "    <tr>\n",
       "      <th>White</th>\n",
       "      <td>25.0</td>\n",
       "      <td>9.652510</td>\n",
       "    </tr>\n",
       "    <tr>\n",
       "      <th>Total</th>\n",
       "      <td>259.0</td>\n",
       "      <td>100.000000</td>\n",
       "    </tr>\n",
       "  </tbody>\n",
       "</table>\n",
       "</div>"
      ],
      "text/plain": [
       "                                  Number of Students per Race  \\\n",
       "Race/Ethnicity                                                  \n",
       "American Indian or Alaska Native                          1.0   \n",
       "Asian                                                    16.0   \n",
       "Black or African American                                48.0   \n",
       "Filipino                                                  9.0   \n",
       "Hispanic or Latino                                      133.0   \n",
       "Two or More Races                                        27.0   \n",
       "White                                                    25.0   \n",
       "Total                                                   259.0   \n",
       "\n",
       "                                  % Students per Race  \n",
       "Race/Ethnicity                                         \n",
       "American Indian or Alaska Native             0.386100  \n",
       "Asian                                        6.177606  \n",
       "Black or African American                   18.532819  \n",
       "Filipino                                     3.474903  \n",
       "Hispanic or Latino                          51.351351  \n",
       "Two or More Races                           10.424710  \n",
       "White                                        9.652510  \n",
       "Total                                      100.000000  "
      ]
     },
     "execution_count": 33,
     "metadata": {},
     "output_type": "execute_result"
    }
   ],
   "source": [
    "#Get data on race/ethnicity\n",
    "race_students = pd.DataFrame(allgrades_df.groupby('Race/Ethnicity').count())\n",
    "race_students = race_students[[\"Grade\"]]\n",
    "race_students = race_students.rename(columns={\"Grade\":\"Number of Students per Race\"})\n",
    "\n",
    "total_race = race_students[\"Number of Students per Race\"].sum()\n",
    "race_students[\"% Students per Race\"] = (race_students[\"Number of Students per Race\"]/total_race*100)\n",
    "race_students.loc[\"Total\"] = race_students.sum()\n",
    "race_students"
   ]
  },
  {
   "cell_type": "code",
   "execution_count": 34,
   "metadata": {},
   "outputs": [
    {
     "data": {
      "text/html": [
       "<div>\n",
       "<style scoped>\n",
       "    .dataframe tbody tr th:only-of-type {\n",
       "        vertical-align: middle;\n",
       "    }\n",
       "\n",
       "    .dataframe tbody tr th {\n",
       "        vertical-align: top;\n",
       "    }\n",
       "\n",
       "    .dataframe thead th {\n",
       "        text-align: right;\n",
       "    }\n",
       "</style>\n",
       "<table border=\"1\" class=\"dataframe\">\n",
       "  <thead>\n",
       "    <tr style=\"text-align: right;\">\n",
       "      <th></th>\n",
       "      <th></th>\n",
       "      <th>Number of Students</th>\n",
       "    </tr>\n",
       "    <tr>\n",
       "      <th>Race/Ethnicity</th>\n",
       "      <th>Grade</th>\n",
       "      <th></th>\n",
       "    </tr>\n",
       "  </thead>\n",
       "  <tbody>\n",
       "    <tr>\n",
       "      <th>American Indian or Alaska Native</th>\n",
       "      <th>8</th>\n",
       "      <td>1</td>\n",
       "    </tr>\n",
       "    <tr>\n",
       "      <th rowspan=\"3\" valign=\"top\">Asian</th>\n",
       "      <th>7</th>\n",
       "      <td>5</td>\n",
       "    </tr>\n",
       "    <tr>\n",
       "      <th>8</th>\n",
       "      <td>5</td>\n",
       "    </tr>\n",
       "    <tr>\n",
       "      <th>11</th>\n",
       "      <td>6</td>\n",
       "    </tr>\n",
       "    <tr>\n",
       "      <th>Black or African American</th>\n",
       "      <th>7</th>\n",
       "      <td>17</td>\n",
       "    </tr>\n",
       "  </tbody>\n",
       "</table>\n",
       "</div>"
      ],
      "text/plain": [
       "                                        Number of Students\n",
       "Race/Ethnicity                   Grade                    \n",
       "American Indian or Alaska Native 8                       1\n",
       "Asian                            7                       5\n",
       "                                 8                       5\n",
       "                                 11                      6\n",
       "Black or African American        7                      17"
      ]
     },
     "execution_count": 34,
     "metadata": {},
     "output_type": "execute_result"
    }
   ],
   "source": [
    "#FYI race breakdown per grade level. not sure if I will use this in slide deck\n",
    "race_breakdown = pd.DataFrame(allgrades_df.groupby(['Race/Ethnicity', 'Grade']).count())\n",
    "race_breakdown = race_breakdown[[\"Student ID\"]]\n",
    "race_breakdown = race_breakdown.rename(columns={\"Student ID\":\"Number of Students\"})\n",
    "race_breakdown.head()"
   ]
  },
  {
   "cell_type": "markdown",
   "metadata": {},
   "source": [
    "## 2. Score Analysis by Subject (All grades combined)--# and %"
   ]
  },
  {
   "cell_type": "markdown",
   "metadata": {},
   "source": [
    "Data from this section was used to create slides 9 and 10 of the Deck"
   ]
  },
  {
   "cell_type": "code",
   "execution_count": 35,
   "metadata": {},
   "outputs": [
    {
     "data": {
      "text/html": [
       "<div>\n",
       "<style scoped>\n",
       "    .dataframe tbody tr th:only-of-type {\n",
       "        vertical-align: middle;\n",
       "    }\n",
       "\n",
       "    .dataframe tbody tr th {\n",
       "        vertical-align: top;\n",
       "    }\n",
       "\n",
       "    .dataframe thead th {\n",
       "        text-align: right;\n",
       "    }\n",
       "</style>\n",
       "<table border=\"1\" class=\"dataframe\">\n",
       "  <thead>\n",
       "    <tr style=\"text-align: right;\">\n",
       "      <th></th>\n",
       "      <th>Score</th>\n",
       "      <th>Mathematics Achievement Level</th>\n",
       "    </tr>\n",
       "  </thead>\n",
       "  <tbody>\n",
       "    <tr>\n",
       "      <th>0</th>\n",
       "      <td>Standard Not Met</td>\n",
       "      <td>118</td>\n",
       "    </tr>\n",
       "    <tr>\n",
       "      <th>1</th>\n",
       "      <td>Standard Nearly Met</td>\n",
       "      <td>72</td>\n",
       "    </tr>\n",
       "    <tr>\n",
       "      <th>2</th>\n",
       "      <td>Standard Met</td>\n",
       "      <td>36</td>\n",
       "    </tr>\n",
       "    <tr>\n",
       "      <th>3</th>\n",
       "      <td>Standard Exceeded</td>\n",
       "      <td>35</td>\n",
       "    </tr>\n",
       "    <tr>\n",
       "      <th>4</th>\n",
       "      <td>NS</td>\n",
       "      <td>4</td>\n",
       "    </tr>\n",
       "  </tbody>\n",
       "</table>\n",
       "</div>"
      ],
      "text/plain": [
       "                 Score  Mathematics Achievement Level\n",
       "0     Standard Not Met                            118\n",
       "1  Standard Nearly Met                             72\n",
       "2         Standard Met                             36\n",
       "3    Standard Exceeded                             35\n",
       "4                   NS                              4"
      ]
     },
     "execution_count": 35,
     "metadata": {},
     "output_type": "execute_result"
    }
   ],
   "source": [
    "#Find % of Students who got Meet or Exceeds in Math\n",
    "math_score = pd.DataFrame(allgrades_df[\"Mathematics Achievement Level\"].value_counts())\n",
    "math_score.index.name = \"Score\"\n",
    "math_score.reset_index(level=0, inplace=True)\n",
    "math_score"
   ]
  },
  {
   "cell_type": "code",
   "execution_count": 36,
   "metadata": {},
   "outputs": [
    {
     "data": {
      "text/html": [
       "<div>\n",
       "<style scoped>\n",
       "    .dataframe tbody tr th:only-of-type {\n",
       "        vertical-align: middle;\n",
       "    }\n",
       "\n",
       "    .dataframe tbody tr th {\n",
       "        vertical-align: top;\n",
       "    }\n",
       "\n",
       "    .dataframe thead th {\n",
       "        text-align: right;\n",
       "    }\n",
       "</style>\n",
       "<table border=\"1\" class=\"dataframe\">\n",
       "  <thead>\n",
       "    <tr style=\"text-align: right;\">\n",
       "      <th></th>\n",
       "      <th>Score</th>\n",
       "      <th>ELA/Literacy Achievement Level</th>\n",
       "    </tr>\n",
       "  </thead>\n",
       "  <tbody>\n",
       "    <tr>\n",
       "      <th>0</th>\n",
       "      <td>Standard Nearly Met</td>\n",
       "      <td>83</td>\n",
       "    </tr>\n",
       "    <tr>\n",
       "      <th>1</th>\n",
       "      <td>Standard Met</td>\n",
       "      <td>82</td>\n",
       "    </tr>\n",
       "    <tr>\n",
       "      <th>2</th>\n",
       "      <td>Standard Not Met</td>\n",
       "      <td>51</td>\n",
       "    </tr>\n",
       "    <tr>\n",
       "      <th>3</th>\n",
       "      <td>Standard Exceeded</td>\n",
       "      <td>48</td>\n",
       "    </tr>\n",
       "    <tr>\n",
       "      <th>4</th>\n",
       "      <td>NS</td>\n",
       "      <td>2</td>\n",
       "    </tr>\n",
       "  </tbody>\n",
       "</table>\n",
       "</div>"
      ],
      "text/plain": [
       "                 Score  ELA/Literacy Achievement Level\n",
       "0  Standard Nearly Met                              83\n",
       "1         Standard Met                              82\n",
       "2     Standard Not Met                              51\n",
       "3    Standard Exceeded                              48\n",
       "4                   NS                               2"
      ]
     },
     "execution_count": 36,
     "metadata": {},
     "output_type": "execute_result"
    }
   ],
   "source": [
    "#Find % of Students who got Meet or Exceeds in Reading\n",
    "read_score = pd.DataFrame(allgrades_df[\"ELA/Literacy Achievement Level\"].value_counts())\n",
    "read_score.index.name = \"Score\"\n",
    "read_score.reset_index(level=0, inplace=True)\n",
    "read_score"
   ]
  },
  {
   "cell_type": "code",
   "execution_count": 37,
   "metadata": {
    "scrolled": true
   },
   "outputs": [
    {
     "data": {
      "text/html": [
       "<div>\n",
       "<style scoped>\n",
       "    .dataframe tbody tr th:only-of-type {\n",
       "        vertical-align: middle;\n",
       "    }\n",
       "\n",
       "    .dataframe tbody tr th {\n",
       "        vertical-align: top;\n",
       "    }\n",
       "\n",
       "    .dataframe thead th {\n",
       "        text-align: right;\n",
       "    }\n",
       "</style>\n",
       "<table border=\"1\" class=\"dataframe\">\n",
       "  <thead>\n",
       "    <tr style=\"text-align: right;\">\n",
       "      <th></th>\n",
       "      <th>Score</th>\n",
       "      <th>Mathematics Achievement Level</th>\n",
       "      <th>ELA/Literacy Achievement Level</th>\n",
       "      <th>Math %</th>\n",
       "      <th>ELA %</th>\n",
       "    </tr>\n",
       "  </thead>\n",
       "  <tbody>\n",
       "    <tr>\n",
       "      <th>0</th>\n",
       "      <td>Standard Not Met</td>\n",
       "      <td>118</td>\n",
       "      <td>51</td>\n",
       "      <td>44.528302</td>\n",
       "      <td>19.172932</td>\n",
       "    </tr>\n",
       "    <tr>\n",
       "      <th>1</th>\n",
       "      <td>Standard Nearly Met</td>\n",
       "      <td>72</td>\n",
       "      <td>83</td>\n",
       "      <td>27.169811</td>\n",
       "      <td>31.203008</td>\n",
       "    </tr>\n",
       "    <tr>\n",
       "      <th>2</th>\n",
       "      <td>Standard Met</td>\n",
       "      <td>36</td>\n",
       "      <td>82</td>\n",
       "      <td>13.584906</td>\n",
       "      <td>30.827068</td>\n",
       "    </tr>\n",
       "    <tr>\n",
       "      <th>3</th>\n",
       "      <td>Standard Exceeded</td>\n",
       "      <td>35</td>\n",
       "      <td>48</td>\n",
       "      <td>13.207547</td>\n",
       "      <td>18.045113</td>\n",
       "    </tr>\n",
       "    <tr>\n",
       "      <th>4</th>\n",
       "      <td>NS</td>\n",
       "      <td>4</td>\n",
       "      <td>2</td>\n",
       "      <td>1.509434</td>\n",
       "      <td>0.751880</td>\n",
       "    </tr>\n",
       "  </tbody>\n",
       "</table>\n",
       "</div>"
      ],
      "text/plain": [
       "                 Score  Mathematics Achievement Level  \\\n",
       "0     Standard Not Met                            118   \n",
       "1  Standard Nearly Met                             72   \n",
       "2         Standard Met                             36   \n",
       "3    Standard Exceeded                             35   \n",
       "4                   NS                              4   \n",
       "\n",
       "   ELA/Literacy Achievement Level     Math %      ELA %  \n",
       "0                              51  44.528302  19.172932  \n",
       "1                              83  27.169811  31.203008  \n",
       "2                              82  13.584906  30.827068  \n",
       "3                              48  13.207547  18.045113  \n",
       "4                               2   1.509434   0.751880  "
      ]
     },
     "execution_count": 37,
     "metadata": {},
     "output_type": "execute_result"
    }
   ],
   "source": [
    "#merge the 2 dataframes\n",
    "overallscores_df = pd.merge(math_score, read_score, on=\"Score\", how=\"outer\")\n",
    "\n",
    "#add columns to display percentages\n",
    "overallscores_df[\"Math %\"] = (overallscores_df[\"Mathematics Achievement Level\"]/overallscores_df[\"Mathematics Achievement Level\"].sum())*100\n",
    "overallscores_df[\"ELA %\"] = (overallscores_df[\"ELA/Literacy Achievement Level\"]/overallscores_df[\"ELA/Literacy Achievement Level\"].sum())*100\n",
    "overallscores_df"
   ]
  },
  {
   "cell_type": "code",
   "execution_count": 38,
   "metadata": {},
   "outputs": [
    {
     "data": {
      "text/html": [
       "<div>\n",
       "<style scoped>\n",
       "    .dataframe tbody tr th:only-of-type {\n",
       "        vertical-align: middle;\n",
       "    }\n",
       "\n",
       "    .dataframe tbody tr th {\n",
       "        vertical-align: top;\n",
       "    }\n",
       "\n",
       "    .dataframe thead th {\n",
       "        text-align: right;\n",
       "    }\n",
       "</style>\n",
       "<table border=\"1\" class=\"dataframe\">\n",
       "  <thead>\n",
       "    <tr style=\"text-align: right;\">\n",
       "      <th></th>\n",
       "      <th>0</th>\n",
       "    </tr>\n",
       "  </thead>\n",
       "  <tbody>\n",
       "    <tr>\n",
       "      <th>Score</th>\n",
       "      <td>Standard MetStandard Exceeded</td>\n",
       "    </tr>\n",
       "    <tr>\n",
       "      <th>Mathematics Achievement Level</th>\n",
       "      <td>71</td>\n",
       "    </tr>\n",
       "    <tr>\n",
       "      <th>ELA/Literacy Achievement Level</th>\n",
       "      <td>130</td>\n",
       "    </tr>\n",
       "    <tr>\n",
       "      <th>Math %</th>\n",
       "      <td>26.7925</td>\n",
       "    </tr>\n",
       "    <tr>\n",
       "      <th>ELA %</th>\n",
       "      <td>48.8722</td>\n",
       "    </tr>\n",
       "  </tbody>\n",
       "</table>\n",
       "</div>"
      ],
      "text/plain": [
       "                                                            0\n",
       "Score                           Standard MetStandard Exceeded\n",
       "Mathematics Achievement Level                              71\n",
       "ELA/Literacy Achievement Level                            130\n",
       "Math %                                                26.7925\n",
       "ELA %                                                 48.8722"
      ]
     },
     "execution_count": 38,
     "metadata": {},
     "output_type": "execute_result"
    }
   ],
   "source": [
    "#isolate \"met\" and \"exceeded\" scores only and get totals\n",
    "met_exceed = overallscores_df.loc[2:3]\n",
    "pd.DataFrame(met_exceed.sum())"
   ]
  },
  {
   "cell_type": "markdown",
   "metadata": {},
   "source": [
    "## 3.  Score Analysis by Subject (All grades combined)--Point value out of 4"
   ]
  },
  {
   "cell_type": "markdown",
   "metadata": {},
   "source": [
    "Data from this section was used for data on Slide 9 of the Deck"
   ]
  },
  {
   "cell_type": "code",
   "execution_count": 39,
   "metadata": {},
   "outputs": [
    {
     "name": "stdout",
     "output_type": "stream",
     "text": [
      "The average SBAC score was 1.9172932330827068 out of 4 for Math\n"
     ]
    }
   ],
   "source": [
    "#Add a column that displays score as point value--MATH\n",
    "allgrades_df['Math Score1'] = np.where(allgrades_df['Mathematics Achievement Level']==\"Standard Not Met\", 1, 0)\n",
    "allgrades_df['Math Score2'] = np.where(allgrades_df['Mathematics Achievement Level']==\"Standard Nearly Met\", 2, 0)\n",
    "allgrades_df['Math Score3'] = np.where(allgrades_df['Mathematics Achievement Level']==\"Standard Met\", 3, 0)\n",
    "allgrades_df['Math Score4'] = np.where(allgrades_df['Mathematics Achievement Level']==\"Standard Exceeded\", 4, 0)\n",
    "allgrades_df['Math Score'] = allgrades_df.loc[:,['Math Score1', 'Math Score2', 'Math Score3', 'Math Score4']].sum(axis=1)\n",
    "\n",
    "#Take the average of the scores in the new column\n",
    "allgrades_df['Math Score'].mean()\n",
    "print (f\"The average SBAC score was {allgrades_df['Math Score'].mean()} out of 4 for Math\")"
   ]
  },
  {
   "cell_type": "code",
   "execution_count": 40,
   "metadata": {},
   "outputs": [
    {
     "name": "stdout",
     "output_type": "stream",
     "text": [
      "The average SBAC score was 2.462406015037594 out of 4 for ELA/Reading\n"
     ]
    }
   ],
   "source": [
    "#Add a column that displays score as point value--READING\n",
    "allgrades_df['ELA Score1'] = np.where(allgrades_df['ELA/Literacy Achievement Level']==\"Standard Not Met\", 1, 0)\n",
    "allgrades_df['ELA Score2'] = np.where(allgrades_df['ELA/Literacy Achievement Level']==\"Standard Nearly Met\", 2, 0)\n",
    "allgrades_df['ELA Score3'] = np.where(allgrades_df['ELA/Literacy Achievement Level']==\"Standard Met\", 3, 0)\n",
    "allgrades_df['ELA Score4'] = np.where(allgrades_df['ELA/Literacy Achievement Level']==\"Standard Exceeded\", 4, 0)\n",
    "allgrades_df['ELA Score'] = allgrades_df.loc[:,['ELA Score1', 'ELA Score2', 'ELA Score3', 'ELA Score4']].sum(axis=1)\n",
    "\n",
    "#Take the average of the scores in the new column\n",
    "print (f\"The average SBAC score was {allgrades_df['ELA Score'].mean()} out of 4 for ELA/Reading\")"
   ]
  },
  {
   "cell_type": "markdown",
   "metadata": {},
   "source": [
    "## 4. Unique Student Count "
   ]
  },
  {
   "cell_type": "markdown",
   "metadata": {},
   "source": [
    "Data from this section was used to create the pie graph on Slide 8 of the Deck"
   ]
  },
  {
   "cell_type": "code",
   "execution_count": 41,
   "metadata": {},
   "outputs": [
    {
     "name": "stdout",
     "output_type": "stream",
     "text": [
      "63\n",
      "Grade\n",
      "7     20\n",
      "8     17\n",
      "11    26\n",
      "Name: Student ID, dtype: int64\n"
     ]
    }
   ],
   "source": [
    "#Want to know how many students met/exceeded standards in either Math or Reading and both Math and Reading\n",
    "\n",
    "#How many students passed BOTH\n",
    "passedboth_df = allgrades_df[(allgrades_df[\"ELA Score\"] >2) & (allgrades_df[\"Math Score\"] >2)]\n",
    "passedboth_student_total = len(passedboth_df)\n",
    "passedboth_pergrade = passedboth_df.groupby(\"Grade\")\n",
    "\n",
    "print(passedboth_student_total)\n",
    "print(passedboth_pergrade[\"Student ID\"].count())"
   ]
  },
  {
   "cell_type": "code",
   "execution_count": 42,
   "metadata": {
    "scrolled": true
   },
   "outputs": [
    {
     "name": "stdout",
     "output_type": "stream",
     "text": [
      "8\n",
      "Grade\n",
      "7     3\n",
      "8     4\n",
      "11    1\n",
      "Name: Student ID, dtype: int64\n"
     ]
    }
   ],
   "source": [
    "#How many passed Math only\n",
    "passedMath_df = allgrades_df[(allgrades_df[\"ELA Score\"] <3) & (allgrades_df[\"Math Score\"] >2)]\n",
    "passedMath_total = len(passedMath_df)\n",
    "passedMath_pergrade = passedMath_df.groupby(\"Grade\")\n",
    "\n",
    "print(passedMath_total)\n",
    "print(passedMath_pergrade[\"Student ID\"].count())"
   ]
  },
  {
   "cell_type": "code",
   "execution_count": 43,
   "metadata": {},
   "outputs": [
    {
     "name": "stdout",
     "output_type": "stream",
     "text": [
      "67\n",
      "Grade\n",
      "7     16\n",
      "8     20\n",
      "11    31\n",
      "Name: Student ID, dtype: int64\n"
     ]
    }
   ],
   "source": [
    "#How many passed ELA/Reading only\n",
    "passedELA_df = allgrades_df[(allgrades_df[\"ELA Score\"] >2) & (allgrades_df[\"Math Score\"] <3)]\n",
    "passedELA_total = len(passedELA_df)\n",
    "passedELA_pergrade = passedELA_df.groupby(\"Grade\")\n",
    "\n",
    "print(passedELA_total)\n",
    "print(passedELA_pergrade[\"Student ID\"].count())"
   ]
  },
  {
   "cell_type": "markdown",
   "metadata": {},
   "source": [
    "## 5. Score Analysis by Subject per Grade Level (detailed)"
   ]
  },
  {
   "cell_type": "markdown",
   "metadata": {},
   "source": [
    "Data from this section was used to create slides 11 and 12 of the Deck"
   ]
  },
  {
   "cell_type": "code",
   "execution_count": 44,
   "metadata": {},
   "outputs": [],
   "source": [
    "#write a function that shows how many students recieved \"meet\"/\"exceed\" scores per grade level: \n",
    "#NOTE: I wrote this code FIRST, before I had the idea to create 1 giant merged dataframes, that's why the code references individual CSV files\n",
    "\n",
    "def generate_grade_data(filename, gradeNumber):\n",
    "    #import the csv file and convert to Pandas dataframe\n",
    "    grade_df = pd.read_csv(filename)\n",
    "    \n",
    "    #Create dataframes which contain math and reading scores by Achievement Level \n",
    "    math_df = pd.DataFrame(grade_df[\"Mathematics Achievement Level\"].value_counts())\n",
    "    read_df = pd.DataFrame(grade_df[\"ELA/Literacy Achievement Level\"].value_counts())\n",
    "\n",
    "    #Set index names in reading and math dataframes so you can merge them\n",
    "    math_df.index.name = \"Score\"\n",
    "    math_df.reset_index(level=0, inplace=True)\n",
    "\n",
    "    read_df.index.name = \"Score\"\n",
    "    read_df.reset_index(level=0, inplace=True)\n",
    "\n",
    "    #merge the 2 dataframes for Math and Reading scores\n",
    "    new_df = pd.merge(math_df, read_df, on='Score', how='outer')\n",
    "    \n",
    "    #Get percentages of students recieving each score (add columns)\n",
    "    new_df[f\"Grade {gradeNumber} Math %\"] = (new_df[\"Mathematics Achievement Level\"] / new_df[\"Mathematics Achievement Level\"].sum())*100\n",
    "    new_df[f\"Grade {gradeNumber} Reading %\"] = (new_df[\"ELA/Literacy Achievement Level\"] / new_df[\"ELA/Literacy Achievement Level\"].sum())*100\n",
    "    \n",
    "    #delete original columns\n",
    "    del new_df[\"Mathematics Achievement Level\"]\n",
    "    del new_df[\"ELA/Literacy Achievement Level\"]  \n",
    "    \n",
    "    return new_df\n",
    "\n",
    "#execute function on each csv file \n",
    "grade7_df = generate_grade_data(\"MOCK_DATA_Grade_7_Summit_K2_CAASPP_2018-2019 - MOCK_DATA_Grade_7_Summit_K2_CAASPP_2018-2019.csv\", 7)\n",
    "grade8_df = generate_grade_data(\"MOCK_DATA_Grade_8_Summit_K2_CAASPP_2018-2019 - MOCK_DATA_Grade_8_Summit_K2_CAASPP_2018-2019.csv\", 8)\n",
    "grade11_df = generate_grade_data(\"MOCK_DATA_Grade_11_Summit_K2_CAASPP_2018-2019 - MOCK_DATA_Grade_11_Summit_K2_CAASPP_2018-2019.csv\", 11)"
   ]
  },
  {
   "cell_type": "code",
   "execution_count": 45,
   "metadata": {},
   "outputs": [
    {
     "data": {
      "text/html": [
       "<div>\n",
       "<style scoped>\n",
       "    .dataframe tbody tr th:only-of-type {\n",
       "        vertical-align: middle;\n",
       "    }\n",
       "\n",
       "    .dataframe tbody tr th {\n",
       "        vertical-align: top;\n",
       "    }\n",
       "\n",
       "    .dataframe thead th {\n",
       "        text-align: right;\n",
       "    }\n",
       "</style>\n",
       "<table border=\"1\" class=\"dataframe\">\n",
       "  <thead>\n",
       "    <tr style=\"text-align: right;\">\n",
       "      <th></th>\n",
       "      <th>Score</th>\n",
       "      <th>Grade 7 Math %</th>\n",
       "      <th>Grade 7 Reading %</th>\n",
       "      <th>Grade 8 Math %</th>\n",
       "      <th>Grade 8 Reading %</th>\n",
       "      <th>Grade 11 Math %</th>\n",
       "      <th>Grade 11 Reading %</th>\n",
       "    </tr>\n",
       "  </thead>\n",
       "  <tbody>\n",
       "    <tr>\n",
       "      <th>0</th>\n",
       "      <td>Standard Not Met</td>\n",
       "      <td>47.191011</td>\n",
       "      <td>27.777778</td>\n",
       "      <td>51.546392</td>\n",
       "      <td>15.463918</td>\n",
       "      <td>32.911392</td>\n",
       "      <td>13.924051</td>\n",
       "    </tr>\n",
       "    <tr>\n",
       "      <th>1</th>\n",
       "      <td>Standard Nearly Met</td>\n",
       "      <td>25.842697</td>\n",
       "      <td>31.111111</td>\n",
       "      <td>25.773196</td>\n",
       "      <td>46.391753</td>\n",
       "      <td>30.379747</td>\n",
       "      <td>12.658228</td>\n",
       "    </tr>\n",
       "    <tr>\n",
       "      <th>2</th>\n",
       "      <td>Standard Exceeded</td>\n",
       "      <td>17.977528</td>\n",
       "      <td>11.111111</td>\n",
       "      <td>5.154639</td>\n",
       "      <td>3.092784</td>\n",
       "      <td>17.721519</td>\n",
       "      <td>44.303797</td>\n",
       "    </tr>\n",
       "    <tr>\n",
       "      <th>3</th>\n",
       "      <td>Standard Met</td>\n",
       "      <td>7.865169</td>\n",
       "      <td>28.888889</td>\n",
       "      <td>16.494845</td>\n",
       "      <td>35.051546</td>\n",
       "      <td>16.455696</td>\n",
       "      <td>27.848101</td>\n",
       "    </tr>\n",
       "    <tr>\n",
       "      <th>4</th>\n",
       "      <td>NS</td>\n",
       "      <td>1.123596</td>\n",
       "      <td>1.111111</td>\n",
       "      <td>1.030928</td>\n",
       "      <td>NaN</td>\n",
       "      <td>2.531646</td>\n",
       "      <td>1.265823</td>\n",
       "    </tr>\n",
       "    <tr>\n",
       "      <th>Total</th>\n",
       "      <td>Standard Not MetStandard Nearly MetStandard Ex...</td>\n",
       "      <td>100.000000</td>\n",
       "      <td>100.000000</td>\n",
       "      <td>100.000000</td>\n",
       "      <td>100.000000</td>\n",
       "      <td>100.000000</td>\n",
       "      <td>100.000000</td>\n",
       "    </tr>\n",
       "  </tbody>\n",
       "</table>\n",
       "</div>"
      ],
      "text/plain": [
       "                                                   Score  Grade 7 Math %  \\\n",
       "0                                       Standard Not Met       47.191011   \n",
       "1                                    Standard Nearly Met       25.842697   \n",
       "2                                      Standard Exceeded       17.977528   \n",
       "3                                           Standard Met        7.865169   \n",
       "4                                                     NS        1.123596   \n",
       "Total  Standard Not MetStandard Nearly MetStandard Ex...      100.000000   \n",
       "\n",
       "       Grade 7 Reading %  Grade 8 Math %  Grade 8 Reading %  Grade 11 Math %  \\\n",
       "0              27.777778       51.546392          15.463918        32.911392   \n",
       "1              31.111111       25.773196          46.391753        30.379747   \n",
       "2              11.111111        5.154639           3.092784        17.721519   \n",
       "3              28.888889       16.494845          35.051546        16.455696   \n",
       "4               1.111111        1.030928                NaN         2.531646   \n",
       "Total         100.000000      100.000000         100.000000       100.000000   \n",
       "\n",
       "       Grade 11 Reading %  \n",
       "0               13.924051  \n",
       "1               12.658228  \n",
       "2               44.303797  \n",
       "3               27.848101  \n",
       "4                1.265823  \n",
       "Total          100.000000  "
      ]
     },
     "execution_count": 45,
     "metadata": {},
     "output_type": "execute_result"
    }
   ],
   "source": [
    "#Merge all 3 grade level dataframes to get a concise summary table\n",
    "merge7and8_df = pd.merge(grade7_df, grade8_df, on=\"Score\", how=\"outer\")\n",
    "finalscore_df = pd.merge(merge7and8_df, grade11_df, on=\"Score\", how=\"outer\")\n",
    "\n",
    "#export table to CSV\n",
    "export_csv = finalscore_df.to_csv (\"Score-Analysis.csv\", index = None, header=True)\n",
    "finalscore_df\n",
    "finalscore_df.loc[\"Total\"] = finalscore_df.sum()\n",
    "finalscore_df"
   ]
  },
  {
   "cell_type": "markdown",
   "metadata": {},
   "source": [
    "## 6. Student Subgroup Analysis "
   ]
  },
  {
   "cell_type": "markdown",
   "metadata": {},
   "source": [
    "This is an area of data analysis I would have liked to spend more time on. I did not get to finish the analysis, so this data was not included in the Deck"
   ]
  },
  {
   "cell_type": "code",
   "execution_count": 46,
   "metadata": {},
   "outputs": [],
   "source": [
    "#Create Dataframes for different subgroups (all grade levels combined)\n",
    "\n",
    "#Economically Disadvantaged Students\n",
    "ED_df = allgrades_df.loc[allgrades_df[\"Economically Disadvantaged Status\"]=='Y']"
   ]
  },
  {
   "cell_type": "code",
   "execution_count": 47,
   "metadata": {},
   "outputs": [
    {
     "data": {
      "text/html": [
       "<div>\n",
       "<style scoped>\n",
       "    .dataframe tbody tr th:only-of-type {\n",
       "        vertical-align: middle;\n",
       "    }\n",
       "\n",
       "    .dataframe tbody tr th {\n",
       "        vertical-align: top;\n",
       "    }\n",
       "\n",
       "    .dataframe thead th {\n",
       "        text-align: right;\n",
       "    }\n",
       "</style>\n",
       "<table border=\"1\" class=\"dataframe\">\n",
       "  <thead>\n",
       "    <tr style=\"text-align: right;\">\n",
       "      <th></th>\n",
       "      <th>Score</th>\n",
       "      <th>Economically Disadvantaged Math %</th>\n",
       "      <th>Economically Disadvantaged Reading %</th>\n",
       "    </tr>\n",
       "  </thead>\n",
       "  <tbody>\n",
       "    <tr>\n",
       "      <th>0</th>\n",
       "      <td>Standard Not Met</td>\n",
       "      <td>53.030303</td>\n",
       "      <td>19.402985</td>\n",
       "    </tr>\n",
       "    <tr>\n",
       "      <th>1</th>\n",
       "      <td>Standard Nearly Met</td>\n",
       "      <td>22.727273</td>\n",
       "      <td>37.313433</td>\n",
       "    </tr>\n",
       "    <tr>\n",
       "      <th>2</th>\n",
       "      <td>Standard Met</td>\n",
       "      <td>15.151515</td>\n",
       "      <td>25.373134</td>\n",
       "    </tr>\n",
       "    <tr>\n",
       "      <th>3</th>\n",
       "      <td>Standard Exceeded</td>\n",
       "      <td>9.090909</td>\n",
       "      <td>16.417910</td>\n",
       "    </tr>\n",
       "    <tr>\n",
       "      <th>4</th>\n",
       "      <td>NS</td>\n",
       "      <td>NaN</td>\n",
       "      <td>1.492537</td>\n",
       "    </tr>\n",
       "  </tbody>\n",
       "</table>\n",
       "</div>"
      ],
      "text/plain": [
       "                 Score  Economically Disadvantaged Math %  \\\n",
       "0     Standard Not Met                          53.030303   \n",
       "1  Standard Nearly Met                          22.727273   \n",
       "2         Standard Met                          15.151515   \n",
       "3    Standard Exceeded                           9.090909   \n",
       "4                   NS                                NaN   \n",
       "\n",
       "   Economically Disadvantaged Reading %  \n",
       "0                             19.402985  \n",
       "1                             37.313433  \n",
       "2                             25.373134  \n",
       "3                             16.417910  \n",
       "4                              1.492537  "
      ]
     },
     "execution_count": 47,
     "metadata": {},
     "output_type": "execute_result"
    }
   ],
   "source": [
    "def generate_subgroup_data(df_name, subgroup):\n",
    "    \n",
    "    #Create dataframes which contain math and reading scores by Achievement Level \n",
    "    math_df = pd.DataFrame(df_name[\"Mathematics Achievement Level\"].value_counts())\n",
    "    read_df = pd.DataFrame(df_name[\"ELA/Literacy Achievement Level\"].value_counts())\n",
    "\n",
    "    #Set index names in reading and math dataframes so you can merge them\n",
    "    math_df.index.name = \"Score\"\n",
    "    math_df.reset_index(level=0, inplace=True)\n",
    "\n",
    "    read_df.index.name = \"Score\"\n",
    "    read_df.reset_index(level=0, inplace=True)\n",
    "\n",
    "    #merge the 2 dataframes for Math and Reading scores\n",
    "    new_df = pd.merge(math_df, read_df, on='Score', how='outer')\n",
    "    \n",
    "    #Get percentages of students recieving each score (add columns)\n",
    "    new_df[f\"{subgroup} Math %\"] = (new_df[\"Mathematics Achievement Level\"] / new_df[\"Mathematics Achievement Level\"].sum())*100\n",
    "    new_df[f\"{subgroup} Reading %\"] = (new_df[\"ELA/Literacy Achievement Level\"] / new_df[\"ELA/Literacy Achievement Level\"].sum())*100\n",
    "  \n",
    "    #delete original columns\n",
    "    del new_df[\"Mathematics Achievement Level\"]\n",
    "    del new_df[\"ELA/Literacy Achievement Level\"] \n",
    "    \n",
    "    return new_df\n",
    "\n",
    "EconDis_df = generate_subgroup_data(ED_df, \"Economically Disadvantaged\") \n",
    "EconDis_df"
   ]
  },
  {
   "cell_type": "code",
   "execution_count": 48,
   "metadata": {},
   "outputs": [],
   "source": [
    "#Also want to do subgroup analysis for Students with Disabilites, English Language Learners, and Racial Minority Groups"
   ]
  }
 ],
 "metadata": {
  "kernelspec": {
   "display_name": "Python [default]",
   "language": "python",
   "name": "python3"
  },
  "language_info": {
   "codemirror_mode": {
    "name": "ipython",
    "version": 3
   },
   "file_extension": ".py",
   "mimetype": "text/x-python",
   "name": "python",
   "nbconvert_exporter": "python",
   "pygments_lexer": "ipython3",
   "version": "3.6.5"
  }
 },
 "nbformat": 4,
 "nbformat_minor": 2
}
